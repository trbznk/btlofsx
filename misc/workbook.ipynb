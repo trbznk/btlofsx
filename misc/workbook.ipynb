{
 "cells": [
  {
   "cell_type": "code",
   "execution_count": 20,
   "metadata": {},
   "outputs": [
    {
     "data": {
      "text/latex": [
       "$\\displaystyle 3 p q + p \\left(1 - q\\right) + \\left(1 - q\\right) \\left(2 - 2 p\\right)$"
      ],
      "text/plain": [
       "3*p*q + p*(1 - q) + (1 - q)*(2 - 2*p)"
      ]
     },
     "execution_count": 20,
     "metadata": {},
     "output_type": "execute_result"
    }
   ],
   "source": [
    "from sympy import symbols, simplify, expand, solve\n",
    "\n",
    "p, q = symbols(\"p q\")\n",
    "er = 3*p*q + 2*(1-p)*(1-q) + 1*p*(1-q) + 0*(1-p)*q\n",
    "er_test = p*(1 + 2*q) + (1 - p)*(2 - 2*q)\n",
    "ec = 3*(1-p)*(1-q) + 2*p*q + 1*p*(1-q) + 0*(1-p)*q\n",
    "ec_test = q*(2*p) + (1 - q)*(3 - 2*p)\n",
    "er"
   ]
  },
  {
   "cell_type": "code",
   "execution_count": 11,
   "metadata": {},
   "outputs": [
    {
     "data": {
      "text/latex": [
       "$\\displaystyle 2 p q + p \\left(1 - q\\right) + \\left(1 - q\\right) \\left(3 - 3 p\\right)$"
      ],
      "text/plain": [
       "2*p*q + p*(1 - q) + (1 - q)*(3 - 3*p)"
      ]
     },
     "execution_count": 11,
     "metadata": {},
     "output_type": "execute_result"
    }
   ],
   "source": [
    "ec"
   ]
  },
  {
   "cell_type": "code",
   "execution_count": 12,
   "metadata": {},
   "outputs": [
    {
     "data": {
      "text/latex": [
       "$\\displaystyle 4 p q - p - 2 q + 2$"
      ],
      "text/plain": [
       "4*p*q - p - 2*q + 2"
      ]
     },
     "execution_count": 12,
     "metadata": {},
     "output_type": "execute_result"
    }
   ],
   "source": [
    "simplify(er)"
   ]
  },
  {
   "cell_type": "code",
   "execution_count": 9,
   "metadata": {},
   "outputs": [
    {
     "data": {
      "text/latex": [
       "$\\displaystyle 4 p q - p - 2 q + 2$"
      ],
      "text/plain": [
       "4*p*q - p - 2*q + 2"
      ]
     },
     "execution_count": 9,
     "metadata": {},
     "output_type": "execute_result"
    }
   ],
   "source": [
    "simplify(er_test)"
   ]
  },
  {
   "cell_type": "code",
   "execution_count": 6,
   "metadata": {},
   "outputs": [
    {
     "data": {
      "text/latex": [
       "$\\displaystyle 4 p q - 2 p - 3 q + 3$"
      ],
      "text/plain": [
       "4*p*q - 2*p - 3*q + 3"
      ]
     },
     "execution_count": 6,
     "metadata": {},
     "output_type": "execute_result"
    }
   ],
   "source": [
    "simplify(ec)"
   ]
  },
  {
   "cell_type": "code",
   "execution_count": 16,
   "metadata": {},
   "outputs": [
    {
     "data": {
      "text/latex": [
       "$\\displaystyle 4 p q - 2 p - 3 q + 3$"
      ],
      "text/plain": [
       "4*p*q - 2*p - 3*q + 3"
      ]
     },
     "execution_count": 16,
     "metadata": {},
     "output_type": "execute_result"
    }
   ],
   "source": [
    "expand(ec_test)"
   ]
  },
  {
   "cell_type": "code",
   "execution_count": 21,
   "metadata": {},
   "outputs": [
    {
     "data": {
      "text/plain": [
       "[{p: 0, q: 1}, {p: 5/4, q: -1/4}]"
      ]
     },
     "execution_count": 21,
     "metadata": {},
     "output_type": "execute_result"
    }
   ],
   "source": [
    "solve([er, ec])"
   ]
  },
  {
   "cell_type": "code",
   "execution_count": null,
   "metadata": {},
   "outputs": [],
   "source": []
  }
 ],
 "metadata": {
  "kernelspec": {
   "display_name": "Python 3",
   "language": "python",
   "name": "python3"
  },
  "language_info": {
   "codemirror_mode": {
    "name": "ipython",
    "version": 3
   },
   "file_extension": ".py",
   "mimetype": "text/x-python",
   "name": "python",
   "nbconvert_exporter": "python",
   "pygments_lexer": "ipython3",
   "version": "3.12.3"
  }
 },
 "nbformat": 4,
 "nbformat_minor": 2
}
